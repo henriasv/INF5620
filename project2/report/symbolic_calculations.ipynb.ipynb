{
 "metadata": {
  "name": ""
 },
 "nbformat": 3,
 "nbformat_minor": 0,
 "worksheets": [
  {
   "cells": [
    {
     "cell_type": "code",
     "collapsed": false,
     "input": [
      "from sympy import Symbol, latex, solve, factor, collect, together\n",
      "\n",
      "# Definitions for finite difference schemes in R^2\\timesR\n",
      "\n",
      "# u variables are defined as u_ijn, m means minus\n",
      "u_000 = Symbol('u_{i, j}^{n}')\n",
      "u_001 = Symbol('u_{i,j}^{n+1}')\n",
      "u_00m1 = Symbol('u_{i, j}^{n-1}')\n",
      "\n",
      "u_100 = Symbol('u_{i+1, j}^n')\n",
      "u_010 = Symbol('u_{i, j+1}^n')\n",
      "u_m100 = Symbol('u_{i-1, j}^n')\n",
      "u_0m10 = Symbol('u_{i, j-1}^n')\n",
      "\n",
      "q_000 = Symbol('q_{i, j}^n')\n",
      "q_100 = Symbol('q_{i+1, j}^n')\n",
      "q_010 = Symbol('q_{i, j+1}^n')\n",
      "q_m100 = Symbol('q_{i-1, j}^n')\n",
      "q_0m10 = Symbol('q_{i, j-1}^n')\n",
      "\n",
      "dt = Symbol('\\Delta t')\n",
      "dx = Symbol('\\Delta x')\n",
      "dy = Symbol('\\Delta y')\n",
      "\n",
      "b = Symbol('b')\n",
      "\n",
      "equation = (u_001 -2*u_000 + u_00m1)/(dt**2) + b*(u_001 - u_00m1)/(2*dt) \\\n",
      "- ((q_100 + q_000)*(u_100 - u_000)/2 - (q_m100 + q_000)*(u_000-u_m100)/2)/(dx**2) \\\n",
      "- ((q_010 + q_000)*(u_010 - u_000)/2 - (q_0m10 + q_000)*(u_000-u_0m10)/2)/(dx**2)\n",
      "\n",
      "\n",
      "equation = equation.simplify()\n",
      "#equation\n",
      "\n",
      "solution = solve(equation, u_001)\n",
      "solution\n",
      "simplified = simplify(solution[0], ratio=5)\n",
      "simplified = simplify(simplified)\n",
      "simplified = factor(simplified)\n",
      "\n",
      "simplified = collect(simplified, dt**2)\n",
      "simplified = collect(simplified, q_000)\n",
      "\n",
      "simplified\n",
      "#print latex(simplified)"
     ],
     "language": "python",
     "metadata": {},
     "outputs": [
      {
       "latex": [
        "$$\\frac{1}{\\Delta x^{2} \\left(\\Delta t b + 2\\right)} \\left(\\Delta t^{2} \\left(q^{n}_{{i+1, j}} u^{n}_{{i+1, j}} - q^{n}_{{i+1, j}} u^{{n}}_{{i, j}} + q^{n}_{{i, j+1}} u^{n}_{{i, j+1}} - q^{n}_{{i, j+1}} u^{{n}}_{{i, j}} + q^{n}_{{i, j-1}} u^{n}_{{i, j-1}} - q^{n}_{{i, j-1}} u^{{n}}_{{i, j}} + q^{n}_{{i, j}} u^{n}_{{i+1, j}} + q^{n}_{{i, j}} u^{n}_{{i, j+1}} + q^{n}_{{i, j}} u^{n}_{{i, j-1}} - 4 q^{n}_{{i, j}} u^{{n}}_{{i, j}} + q^{n}_{{i, j}} u^{n}_{{i-1, j}} - q^{n}_{{i-1, j}} u^{{n}}_{{i, j}} + q^{n}_{{i-1, j}} u^{n}_{{i-1, j}}\\right) + \\Delta t \\Delta x^{2} b u^{{n-1}}_{{i, j}} - 2 \\Delta x^{2} u^{{n-1}}_{{i, j}} + 4 \\Delta x^{2} u^{{n}}_{{i, j}}\\right)$$"
       ],
       "metadata": {},
       "output_type": "pyout",
       "png": "[encoded data removed]",
       "prompt_number": 59,
       "text": [
        "        2                                                                     \n",
        "\\Delta t \u22c5(q_{i+1, j}^n\u22c5u_{i+1, j}^n - q_{i+1, j}^n\u22c5u_{i, j}^{n} + q_{i, j+1}^\n",
        "\u2500\u2500\u2500\u2500\u2500\u2500\u2500\u2500\u2500\u2500\u2500\u2500\u2500\u2500\u2500\u2500\u2500\u2500\u2500\u2500\u2500\u2500\u2500\u2500\u2500\u2500\u2500\u2500\u2500\u2500\u2500\u2500\u2500\u2500\u2500\u2500\u2500\u2500\u2500\u2500\u2500\u2500\u2500\u2500\u2500\u2500\u2500\u2500\u2500\u2500\u2500\u2500\u2500\u2500\u2500\u2500\u2500\u2500\u2500\u2500\u2500\u2500\u2500\u2500\u2500\u2500\u2500\u2500\u2500\u2500\u2500\u2500\u2500\u2500\u2500\u2500\u2500\u2500\n",
        "                                                                              \n",
        "                                                                              \n",
        "\n",
        "                                                                              \n",
        "n\u22c5u_{i, j+1}^n - q_{i, j+1}^n\u22c5u_{i, j}^{n} + q_{i, j-1}^n\u22c5u_{i, j-1}^n - q_{i,\n",
        "\u2500\u2500\u2500\u2500\u2500\u2500\u2500\u2500\u2500\u2500\u2500\u2500\u2500\u2500\u2500\u2500\u2500\u2500\u2500\u2500\u2500\u2500\u2500\u2500\u2500\u2500\u2500\u2500\u2500\u2500\u2500\u2500\u2500\u2500\u2500\u2500\u2500\u2500\u2500\u2500\u2500\u2500\u2500\u2500\u2500\u2500\u2500\u2500\u2500\u2500\u2500\u2500\u2500\u2500\u2500\u2500\u2500\u2500\u2500\u2500\u2500\u2500\u2500\u2500\u2500\u2500\u2500\u2500\u2500\u2500\u2500\u2500\u2500\u2500\u2500\u2500\u2500\u2500\n",
        "                                                                              \n",
        "                                                                              \n",
        "\n",
        "                                                                              \n",
        " j-1}^n\u22c5u_{i, j}^{n} + q_{i, j}^n\u22c5u_{i+1, j}^n + q_{i, j}^n\u22c5u_{i, j+1}^n + q_{\n",
        "\u2500\u2500\u2500\u2500\u2500\u2500\u2500\u2500\u2500\u2500\u2500\u2500\u2500\u2500\u2500\u2500\u2500\u2500\u2500\u2500\u2500\u2500\u2500\u2500\u2500\u2500\u2500\u2500\u2500\u2500\u2500\u2500\u2500\u2500\u2500\u2500\u2500\u2500\u2500\u2500\u2500\u2500\u2500\u2500\u2500\u2500\u2500\u2500\u2500\u2500\u2500\u2500\u2500\u2500\u2500\u2500\u2500\u2500\u2500\u2500\u2500\u2500\u2500\u2500\u2500\u2500\u2500\u2500\u2500\u2500\u2500\u2500\u2500\u2500\u2500\u2500\u2500\u2500\n",
        "                                                                     2        \n",
        "                                                             \\Delta x \u22c5(\\Delta\n",
        "\n",
        "                                                                              \n",
        "i, j}^n\u22c5u_{i, j-1}^n - 4\u22c5q_{i, j}^n\u22c5u_{i, j}^{n} + q_{i, j}^n\u22c5u_{i-1, j}^n - q\n",
        "\u2500\u2500\u2500\u2500\u2500\u2500\u2500\u2500\u2500\u2500\u2500\u2500\u2500\u2500\u2500\u2500\u2500\u2500\u2500\u2500\u2500\u2500\u2500\u2500\u2500\u2500\u2500\u2500\u2500\u2500\u2500\u2500\u2500\u2500\u2500\u2500\u2500\u2500\u2500\u2500\u2500\u2500\u2500\u2500\u2500\u2500\u2500\u2500\u2500\u2500\u2500\u2500\u2500\u2500\u2500\u2500\u2500\u2500\u2500\u2500\u2500\u2500\u2500\u2500\u2500\u2500\u2500\u2500\u2500\u2500\u2500\u2500\u2500\u2500\u2500\u2500\u2500\u2500\n",
        "                                                                              \n",
        " t\u22c5b + 2)                                                                     \n",
        "\n",
        "                                                                         2    \n",
        "_{i-1, j}^n\u22c5u_{i, j}^{n} + q_{i-1, j}^n\u22c5u_{i-1, j}^n) + \\Delta t\u22c5\\Delta x \u22c5b\u22c5u\n",
        "\u2500\u2500\u2500\u2500\u2500\u2500\u2500\u2500\u2500\u2500\u2500\u2500\u2500\u2500\u2500\u2500\u2500\u2500\u2500\u2500\u2500\u2500\u2500\u2500\u2500\u2500\u2500\u2500\u2500\u2500\u2500\u2500\u2500\u2500\u2500\u2500\u2500\u2500\u2500\u2500\u2500\u2500\u2500\u2500\u2500\u2500\u2500\u2500\u2500\u2500\u2500\u2500\u2500\u2500\u2500\u2500\u2500\u2500\u2500\u2500\u2500\u2500\u2500\u2500\u2500\u2500\u2500\u2500\u2500\u2500\u2500\u2500\u2500\u2500\u2500\u2500\u2500\u2500\n",
        "                                                                              \n",
        "                                                                              \n",
        "\n",
        "                          2                            2             \n",
        "_{i, j}^{n-1} - 2\u22c5\\Delta x \u22c5u_{i, j}^{n-1} + 4\u22c5\\Delta x \u22c5u_{i, j}^{n}\n",
        "\u2500\u2500\u2500\u2500\u2500\u2500\u2500\u2500\u2500\u2500\u2500\u2500\u2500\u2500\u2500\u2500\u2500\u2500\u2500\u2500\u2500\u2500\u2500\u2500\u2500\u2500\u2500\u2500\u2500\u2500\u2500\u2500\u2500\u2500\u2500\u2500\u2500\u2500\u2500\u2500\u2500\u2500\u2500\u2500\u2500\u2500\u2500\u2500\u2500\u2500\u2500\u2500\u2500\u2500\u2500\u2500\u2500\u2500\u2500\u2500\u2500\u2500\u2500\u2500\u2500\u2500\u2500\u2500\u2500\n",
        "                                                                     \n",
        "                                                                     "
       ]
      }
     ],
     "prompt_number": 59
    }
   ],
   "metadata": {}
  }
 ]
}