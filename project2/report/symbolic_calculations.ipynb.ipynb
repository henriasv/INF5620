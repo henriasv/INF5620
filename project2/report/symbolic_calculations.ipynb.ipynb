{
 "metadata": {
  "name": "symbolic_calculations.ipynb"
 },
 "nbformat": 3,
 "nbformat_minor": 0,
 "worksheets": [
  {
   "cells": [
    {
     "cell_type": "code",
     "collapsed": false,
     "input": [
      "from sympy import Symbol, latex, solve, factor, collect, together, simplify, init_printing\n",
      "%load_ext sympy.interactive.ipythonprinting\n",
      "# Definitions for finite difference schemes in R^2\\timesR\n",
      "\n",
      "# u variables are defined as u_ijn, m means minus\n",
      "u_000 = Symbol('u_{i, j}^{n}')\n",
      "u_001 = Symbol('u_{i,j}^{n+1}')\n",
      "u_00m1 = Symbol('u_{i, j}^{n-1}')\n",
      "\n",
      "u_100 = Symbol('u_{i+1, j}^n')\n",
      "u_010 = Symbol('u_{i, j+1}^n')\n",
      "u_m100 = Symbol('u_{i-1, j}^n')\n",
      "u_0m10 = Symbol('u_{i, j-1}^n')\n",
      "\n",
      "q_000 = Symbol('q_{i, j}^n')\n",
      "q_100 = Symbol('q_{i+1, j}^n')\n",
      "q_010 = Symbol('q_{i, j+1}^n')\n",
      "q_m100 = Symbol('q_{i-1, j}^n')\n",
      "q_0m10 = Symbol('q_{i, j-1}^n')\n",
      "\n",
      "dt = Symbol('\\Delta t')\n",
      "dx = Symbol('\\Delta x')\n",
      "dy = Symbol('\\Delta y')\n",
      "\n",
      "f = Symbol('f')\n",
      "V = Symbol('V')\n",
      "b = Symbol('b')\n",
      "\n",
      "equation = (u_001 -2*u_000 + u_00m1)/(dt**2) + b*(u_001 - u_00m1)/(2*dt) \\\n",
      "- ((q_100 + q_000)*(u_100 - u_000)/2 - (q_m100 + q_000)*(u_000-u_m100)/2)/(dx**2) \\\n",
      "- ((q_010 + q_000)*(u_010 - u_000)/2 - (q_0m10 + q_000)*(u_000-u_0m10)/2)/(dx**2) - f\n",
      "\n",
      "\n",
      "#equation = equation.simplify()\n",
      "solution = solve(equation, u_001)\n",
      "\n",
      "simplified = simplify(solution[0], ratio=5)\n",
      "simplified = collect(simplified, dt**2)\n",
      "simplified\n",
      "\n",
      "\n",
      "\n"
     ],
     "language": "python",
     "metadata": {},
     "outputs": [
      {
       "latex": [
        "$$\\frac{\\Delta t^{2} \\left(2 \\Delta x^{2} f + q^{n}_{{i+1, j}} u^{n}_{{i+1, j}} - q^{n}_{{i+1, j}} u^{{n}}_{{i, j}} + q^{n}_{{i, j+1}} u^{n}_{{i, j+1}} - q^{n}_{{i, j+1}} u^{{n}}_{{i, j}} + q^{n}_{{i, j-1}} u^{n}_{{i, j-1}} - q^{n}_{{i, j-1}} u^{{n}}_{{i, j}} + q^{n}_{{i, j}} u^{n}_{{i+1, j}} + q^{n}_{{i, j}} u^{n}_{{i, j+1}} + q^{n}_{{i, j}} u^{n}_{{i, j-1}} - 4 q^{n}_{{i, j}} u^{{n}}_{{i, j}} + q^{n}_{{i, j}} u^{n}_{{i-1, j}} - q^{n}_{{i-1, j}} u^{{n}}_{{i, j}} + q^{n}_{{i-1, j}} u^{n}_{{i-1, j}}\\right) + \\Delta t \\Delta x^{2} b u^{{n-1}}_{{i, j}} - 2 \\Delta x^{2} u^{{n-1}}_{{i, j}} + 4 \\Delta x^{2} u^{{n}}_{{i, j}}}{\\Delta x^{2} \\left(\\Delta t b + 2\\right)}$$"
       ],
       "output_type": "pyout",
       "png": "[encoded data removed]",
       "prompt_number": 16,
       "text": [
        "        2 \u239b          2                                                        \n",
        "\\Delta t \u22c5\u239d2\u22c5\\Delta x \u22c5f + q_{i+1, j}^n\u22c5u_{i+1, j}^n - q_{i+1, j}^n\u22c5u_{i, j}^{\n",
        "\u2500\u2500\u2500\u2500\u2500\u2500\u2500\u2500\u2500\u2500\u2500\u2500\u2500\u2500\u2500\u2500\u2500\u2500\u2500\u2500\u2500\u2500\u2500\u2500\u2500\u2500\u2500\u2500\u2500\u2500\u2500\u2500\u2500\u2500\u2500\u2500\u2500\u2500\u2500\u2500\u2500\u2500\u2500\u2500\u2500\u2500\u2500\u2500\u2500\u2500\u2500\u2500\u2500\u2500\u2500\u2500\u2500\u2500\u2500\u2500\u2500\u2500\u2500\u2500\u2500\u2500\u2500\u2500\u2500\u2500\u2500\u2500\u2500\u2500\u2500\u2500\u2500\u2500\n",
        "                                                                              \n",
        "                                                                              \n",
        "\n",
        "                                                                              \n",
        "n} + q_{i, j+1}^n\u22c5u_{i, j+1}^n - q_{i, j+1}^n\u22c5u_{i, j}^{n} + q_{i, j-1}^n\u22c5u_{i\n",
        "\u2500\u2500\u2500\u2500\u2500\u2500\u2500\u2500\u2500\u2500\u2500\u2500\u2500\u2500\u2500\u2500\u2500\u2500\u2500\u2500\u2500\u2500\u2500\u2500\u2500\u2500\u2500\u2500\u2500\u2500\u2500\u2500\u2500\u2500\u2500\u2500\u2500\u2500\u2500\u2500\u2500\u2500\u2500\u2500\u2500\u2500\u2500\u2500\u2500\u2500\u2500\u2500\u2500\u2500\u2500\u2500\u2500\u2500\u2500\u2500\u2500\u2500\u2500\u2500\u2500\u2500\u2500\u2500\u2500\u2500\u2500\u2500\u2500\u2500\u2500\u2500\u2500\u2500\n",
        "                                                                              \n",
        "                                                                              \n",
        "\n",
        "                                                                              \n",
        ", j-1}^n - q_{i, j-1}^n\u22c5u_{i, j}^{n} + q_{i, j}^n\u22c5u_{i+1, j}^n + q_{i, j}^n\u22c5u_\n",
        "\u2500\u2500\u2500\u2500\u2500\u2500\u2500\u2500\u2500\u2500\u2500\u2500\u2500\u2500\u2500\u2500\u2500\u2500\u2500\u2500\u2500\u2500\u2500\u2500\u2500\u2500\u2500\u2500\u2500\u2500\u2500\u2500\u2500\u2500\u2500\u2500\u2500\u2500\u2500\u2500\u2500\u2500\u2500\u2500\u2500\u2500\u2500\u2500\u2500\u2500\u2500\u2500\u2500\u2500\u2500\u2500\u2500\u2500\u2500\u2500\u2500\u2500\u2500\u2500\u2500\u2500\u2500\u2500\u2500\u2500\u2500\u2500\u2500\u2500\u2500\u2500\u2500\u2500\n",
        "                                                                             2\n",
        "                                                                     \\Delta x \n",
        "\n",
        "                                                                              \n",
        "{i, j+1}^n + q_{i, j}^n\u22c5u_{i, j-1}^n - 4\u22c5q_{i, j}^n\u22c5u_{i, j}^{n} + q_{i, j}^n\u22c5\n",
        "\u2500\u2500\u2500\u2500\u2500\u2500\u2500\u2500\u2500\u2500\u2500\u2500\u2500\u2500\u2500\u2500\u2500\u2500\u2500\u2500\u2500\u2500\u2500\u2500\u2500\u2500\u2500\u2500\u2500\u2500\u2500\u2500\u2500\u2500\u2500\u2500\u2500\u2500\u2500\u2500\u2500\u2500\u2500\u2500\u2500\u2500\u2500\u2500\u2500\u2500\u2500\u2500\u2500\u2500\u2500\u2500\u2500\u2500\u2500\u2500\u2500\u2500\u2500\u2500\u2500\u2500\u2500\u2500\u2500\u2500\u2500\u2500\u2500\u2500\u2500\u2500\u2500\u2500\n",
        "                                                                              \n",
        "\u22c5(\\Delta t\u22c5b + 2)                                                             \n",
        "\n",
        "                                                                    \u239e         \n",
        "u_{i-1, j}^n - q_{i-1, j}^n\u22c5u_{i, j}^{n} + q_{i-1, j}^n\u22c5u_{i-1, j}^n\u23a0 + \\Delta\n",
        "\u2500\u2500\u2500\u2500\u2500\u2500\u2500\u2500\u2500\u2500\u2500\u2500\u2500\u2500\u2500\u2500\u2500\u2500\u2500\u2500\u2500\u2500\u2500\u2500\u2500\u2500\u2500\u2500\u2500\u2500\u2500\u2500\u2500\u2500\u2500\u2500\u2500\u2500\u2500\u2500\u2500\u2500\u2500\u2500\u2500\u2500\u2500\u2500\u2500\u2500\u2500\u2500\u2500\u2500\u2500\u2500\u2500\u2500\u2500\u2500\u2500\u2500\u2500\u2500\u2500\u2500\u2500\u2500\u2500\u2500\u2500\u2500\u2500\u2500\u2500\u2500\u2500\u2500\n",
        "                                                                              \n",
        "                                                                              \n",
        "\n",
        "           2                              2                            2      \n",
        " t\u22c5\\Delta x \u22c5b\u22c5u_{i, j}^{n-1} - 2\u22c5\\Delta x \u22c5u_{i, j}^{n-1} + 4\u22c5\\Delta x \u22c5u_{i,\n",
        "\u2500\u2500\u2500\u2500\u2500\u2500\u2500\u2500\u2500\u2500\u2500\u2500\u2500\u2500\u2500\u2500\u2500\u2500\u2500\u2500\u2500\u2500\u2500\u2500\u2500\u2500\u2500\u2500\u2500\u2500\u2500\u2500\u2500\u2500\u2500\u2500\u2500\u2500\u2500\u2500\u2500\u2500\u2500\u2500\u2500\u2500\u2500\u2500\u2500\u2500\u2500\u2500\u2500\u2500\u2500\u2500\u2500\u2500\u2500\u2500\u2500\u2500\u2500\u2500\u2500\u2500\u2500\u2500\u2500\u2500\u2500\u2500\u2500\u2500\u2500\u2500\u2500\u2500\n",
        "                                                                              \n",
        "                                                                              \n",
        "\n",
        "       \n",
        " j}^{n}\n",
        "\u2500\u2500\u2500\u2500\u2500\u2500\u2500\n",
        "       \n",
        "       "
       ]
      }
     ],
     "prompt_number": 16
    },
    {
     "cell_type": "code",
     "collapsed": false,
     "input": [
      "simplify((dt*dx**2*b*u_00m1 -2*dx**2*u_00m1 + 4*dx**2*u_000)/(dx**2*(b*dt+2)))"
     ],
     "language": "python",
     "metadata": {},
     "outputs": [
      {
       "latex": [
        "$$\\frac{\\Delta t \\Delta x^{2} b u^{{n-1}}_{{i, j}} - 2 \\Delta x^{2} u^{{n-1}}_{{i, j}} + 4 \\Delta x^{2}}{\\Delta x^{2} \\left(\\Delta t b + 2\\right)}$$"
       ],
       "output_type": "pyout",
       "png": "[encoded data removed]",
       "prompt_number": 19,
       "text": [
        "                 2                              2                            2\n",
        "\\Delta t\u22c5\\Delta x \u22c5b\u22c5u_{i, j}^{n-1} - 2\u22c5\\Delta x \u22c5u_{i, j}^{n-1} + 4\u22c5\\Delta x \n",
        "\u2500\u2500\u2500\u2500\u2500\u2500\u2500\u2500\u2500\u2500\u2500\u2500\u2500\u2500\u2500\u2500\u2500\u2500\u2500\u2500\u2500\u2500\u2500\u2500\u2500\u2500\u2500\u2500\u2500\u2500\u2500\u2500\u2500\u2500\u2500\u2500\u2500\u2500\u2500\u2500\u2500\u2500\u2500\u2500\u2500\u2500\u2500\u2500\u2500\u2500\u2500\u2500\u2500\u2500\u2500\u2500\u2500\u2500\u2500\u2500\u2500\u2500\u2500\u2500\u2500\u2500\u2500\u2500\u2500\u2500\u2500\u2500\u2500\u2500\u2500\u2500\u2500\u2500\n",
        "                                  2                                           \n",
        "                          \\Delta x \u22c5(\\Delta t\u22c5b + 2)                          "
       ]
      }
     ],
     "prompt_number": 19
    },
    {
     "cell_type": "code",
     "collapsed": false,
     "input": [
      "#Special case, the first step, all u_00m1 are replaced by (u_001-2*dt *V_{i, j}\n",
      "equation = (u_001 -2*u_000 + (u_001-2*dt*V))/(dt**2) + b*2*dt*V/(2*dt) \\\n",
      "- ((q_100 + q_000)*(u_100 - u_000)/2 - (q_m100 + q_000)*(u_000-u_m100)/2)/(dx**2) \\\n",
      "- ((q_010 + q_000)*(u_010 - u_000)/2 - (q_0m10 + q_000)*(u_000-u_0m10)/2)/(dx**2) - f\n",
      "\n",
      "\n",
      "equation = equation.simplify()\n",
      "solution = solve(equation, u_001)\n",
      "\n",
      "simplified = simplify(solution[0], ratio=5)\n",
      "simplified = collect(simplified, dt**2)\n",
      "simplified"
     ],
     "language": "python",
     "metadata": {},
     "outputs": [
      {
       "latex": [
        "$$\\frac{4 V \\Delta t \\Delta x^{2} + \\Delta t^{2} \\left(- 2 V \\Delta x^{2} b + 2 \\Delta x^{2} f + q^{n}_{{i+1, j}} u^{n}_{{i+1, j}} - q^{n}_{{i+1, j}} u^{{n}}_{{i, j}} + q^{n}_{{i, j+1}} u^{n}_{{i, j+1}} - q^{n}_{{i, j+1}} u^{{n}}_{{i, j}} + q^{n}_{{i, j-1}} u^{n}_{{i, j-1}} - q^{n}_{{i, j-1}} u^{{n}}_{{i, j}} + q^{n}_{{i, j}} u^{n}_{{i+1, j}} + q^{n}_{{i, j}} u^{n}_{{i, j+1}} + q^{n}_{{i, j}} u^{n}_{{i, j-1}} - 4 q^{n}_{{i, j}} u^{{n}}_{{i, j}} + q^{n}_{{i, j}} u^{n}_{{i-1, j}} - q^{n}_{{i-1, j}} u^{{n}}_{{i, j}} + q^{n}_{{i-1, j}} u^{n}_{{i-1, j}}\\right) + 4 \\Delta x^{2} u^{{n}}_{{i, j}}}{4 \\Delta x^{2}}$$"
       ],
       "output_type": "pyout",
       "png": "[encoded data removed]",
       "prompt_number": 17,
       "text": [
        "                     2           2 \u239b              2               2           \n",
        "4\u22c5V\u22c5\\Delta t\u22c5\\Delta x  + \\Delta t \u22c5\u239d- 2\u22c5V\u22c5\\Delta x \u22c5b + 2\u22c5\\Delta x \u22c5f + q_{i+1\n",
        "\u2500\u2500\u2500\u2500\u2500\u2500\u2500\u2500\u2500\u2500\u2500\u2500\u2500\u2500\u2500\u2500\u2500\u2500\u2500\u2500\u2500\u2500\u2500\u2500\u2500\u2500\u2500\u2500\u2500\u2500\u2500\u2500\u2500\u2500\u2500\u2500\u2500\u2500\u2500\u2500\u2500\u2500\u2500\u2500\u2500\u2500\u2500\u2500\u2500\u2500\u2500\u2500\u2500\u2500\u2500\u2500\u2500\u2500\u2500\u2500\u2500\u2500\u2500\u2500\u2500\u2500\u2500\u2500\u2500\u2500\u2500\u2500\u2500\u2500\u2500\u2500\u2500\u2500\n",
        "                                                                              \n",
        "                                                                              \n",
        "\n",
        "                                                                              \n",
        ", j}^n\u22c5u_{i+1, j}^n - q_{i+1, j}^n\u22c5u_{i, j}^{n} + q_{i, j+1}^n\u22c5u_{i, j+1}^n - \n",
        "\u2500\u2500\u2500\u2500\u2500\u2500\u2500\u2500\u2500\u2500\u2500\u2500\u2500\u2500\u2500\u2500\u2500\u2500\u2500\u2500\u2500\u2500\u2500\u2500\u2500\u2500\u2500\u2500\u2500\u2500\u2500\u2500\u2500\u2500\u2500\u2500\u2500\u2500\u2500\u2500\u2500\u2500\u2500\u2500\u2500\u2500\u2500\u2500\u2500\u2500\u2500\u2500\u2500\u2500\u2500\u2500\u2500\u2500\u2500\u2500\u2500\u2500\u2500\u2500\u2500\u2500\u2500\u2500\u2500\u2500\u2500\u2500\u2500\u2500\u2500\u2500\u2500\u2500\n",
        "                                                                              \n",
        "                                                                              \n",
        "\n",
        "                                                                              \n",
        "q_{i, j+1}^n\u22c5u_{i, j}^{n} + q_{i, j-1}^n\u22c5u_{i, j-1}^n - q_{i, j-1}^n\u22c5u_{i, j}^\n",
        "\u2500\u2500\u2500\u2500\u2500\u2500\u2500\u2500\u2500\u2500\u2500\u2500\u2500\u2500\u2500\u2500\u2500\u2500\u2500\u2500\u2500\u2500\u2500\u2500\u2500\u2500\u2500\u2500\u2500\u2500\u2500\u2500\u2500\u2500\u2500\u2500\u2500\u2500\u2500\u2500\u2500\u2500\u2500\u2500\u2500\u2500\u2500\u2500\u2500\u2500\u2500\u2500\u2500\u2500\u2500\u2500\u2500\u2500\u2500\u2500\u2500\u2500\u2500\u2500\u2500\u2500\u2500\u2500\u2500\u2500\u2500\u2500\u2500\u2500\u2500\u2500\u2500\u2500\n",
        "                                                                           2  \n",
        "                                                                 4\u22c5\\Delta x   \n",
        "\n",
        "                                                                              \n",
        "{n} + q_{i, j}^n\u22c5u_{i+1, j}^n + q_{i, j}^n\u22c5u_{i, j+1}^n + q_{i, j}^n\u22c5u_{i, j-1\n",
        "\u2500\u2500\u2500\u2500\u2500\u2500\u2500\u2500\u2500\u2500\u2500\u2500\u2500\u2500\u2500\u2500\u2500\u2500\u2500\u2500\u2500\u2500\u2500\u2500\u2500\u2500\u2500\u2500\u2500\u2500\u2500\u2500\u2500\u2500\u2500\u2500\u2500\u2500\u2500\u2500\u2500\u2500\u2500\u2500\u2500\u2500\u2500\u2500\u2500\u2500\u2500\u2500\u2500\u2500\u2500\u2500\u2500\u2500\u2500\u2500\u2500\u2500\u2500\u2500\u2500\u2500\u2500\u2500\u2500\u2500\u2500\u2500\u2500\u2500\u2500\u2500\u2500\u2500\n",
        "                                                                              \n",
        "                                                                              \n",
        "\n",
        "                                                                              \n",
        "}^n - 4\u22c5q_{i, j}^n\u22c5u_{i, j}^{n} + q_{i, j}^n\u22c5u_{i-1, j}^n - q_{i-1, j}^n\u22c5u_{i,\n",
        "\u2500\u2500\u2500\u2500\u2500\u2500\u2500\u2500\u2500\u2500\u2500\u2500\u2500\u2500\u2500\u2500\u2500\u2500\u2500\u2500\u2500\u2500\u2500\u2500\u2500\u2500\u2500\u2500\u2500\u2500\u2500\u2500\u2500\u2500\u2500\u2500\u2500\u2500\u2500\u2500\u2500\u2500\u2500\u2500\u2500\u2500\u2500\u2500\u2500\u2500\u2500\u2500\u2500\u2500\u2500\u2500\u2500\u2500\u2500\u2500\u2500\u2500\u2500\u2500\u2500\u2500\u2500\u2500\u2500\u2500\u2500\u2500\u2500\u2500\u2500\u2500\u2500\u2500\n",
        "                                                                              \n",
        "                                                                              \n",
        "\n",
        "                                   \u239e             2             \n",
        " j}^{n} + q_{i-1, j}^n\u22c5u_{i-1, j}^n\u23a0 + 4\u22c5\\Delta x \u22c5u_{i, j}^{n}\n",
        "\u2500\u2500\u2500\u2500\u2500\u2500\u2500\u2500\u2500\u2500\u2500\u2500\u2500\u2500\u2500\u2500\u2500\u2500\u2500\u2500\u2500\u2500\u2500\u2500\u2500\u2500\u2500\u2500\u2500\u2500\u2500\u2500\u2500\u2500\u2500\u2500\u2500\u2500\u2500\u2500\u2500\u2500\u2500\u2500\u2500\u2500\u2500\u2500\u2500\u2500\u2500\u2500\u2500\u2500\u2500\u2500\u2500\u2500\u2500\u2500\u2500\u2500\u2500\n",
        "                                                               \n",
        "                                                               "
       ]
      }
     ],
     "prompt_number": 17
    }
   ],
   "metadata": {}
  }
 ]
}